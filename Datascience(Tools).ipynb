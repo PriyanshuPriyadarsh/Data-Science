{
 "cells": [
  {
   "cell_type": "markdown",
   "id": "ad9498c9-f1c1-49ca-afe4-d7b30c147a02",
   "metadata": {},
   "source": [
    "# Data Science Tools and Ecosystem"
   ]
  },
  {
   "cell_type": "markdown",
   "id": "6540bfc3-e296-4180-bc45-a76710990370",
   "metadata": {},
   "source": [
    "## Introduction\n",
    "In this notebook, Data Science Tools and Ecosystem are summarized."
   ]
  },
  {
   "cell_type": "markdown",
   "id": "6cc38445-4447-4aed-a53e-0bbb1e39be90",
   "metadata": {},
   "source": [
    "## Data Science Languages\n",
    "Some of the popular languages that Data Scientists use are:\n",
    "1.Python\n",
    "2.R\n",
    "3.SQL\n",
    "4.Scala\n",
    "5.Java\n",
    "6.C++\n",
    "7.Julia\n",
    "8.JavaScript\n",
    "9.PHP\n",
    "10.Go\n",
    "11.Ruby\n",
    "12.Visual Basic"
   ]
  },
  {
   "cell_type": "markdown",
   "id": "e3721066-541a-4040-bd66-8fa752fe45ae",
   "metadata": {},
   "source": [
    "## Data Science Libraries\n",
    "Some of the commonly used libraries used by Data Scientists include:\n",
    "1.Pandas\n",
    "2.Numpy\n",
    "3.Matplotlib\n",
    "4.Seaborn\n",
    "5.Scikit-learn\n",
    "6.Keras\n",
    "7.TensorFlow\n",
    "8.PyTorch\n",
    "9.Apache Spark\n",
    "10.Vegas\n",
    "11.Big DL\n",
    "12.Ggplot2"
   ]
  },
  {
   "cell_type": "markdown",
   "id": "e661d758-6b63-4cc6-994a-6eb1eae298f0",
   "metadata": {},
   "source": [
    "## Data Science Tools\n",
    "| Tool         | Description                            |\n",
    "|--------------|----------------------------------------|\n",
    "| Jupyter      | Interactive computing environment      |\n",
    "| TensorFlow   | Deep learning framework                |\n",
    "| scikit-learn | Machine learning library               |\n",
    "| Spark        | Distributed computing framework        |\n"
   ]
  },
  {
   "cell_type": "markdown",
   "id": "5fc76f56-7000-4ae7-8ab1-39c7b0a7b924",
   "metadata": {},
   "source": [
    "## Arithmetic Expression Examples\n",
    "Below are a few examples of evaluating arithmetic expressions in Python"
   ]
  },
  {
   "cell_type": "code",
   "execution_count": 5,
   "id": "e2104e69-422d-4ba1-ba80-07d19d96210a",
   "metadata": {},
   "outputs": [
    {
     "name": "stdout",
     "output_type": "stream",
     "text": [
      "15 8\n"
     ]
    }
   ],
   "source": [
    "##This a simple arithmetic expression to mutiply then add integers\n",
    "##Code to multiply and add numbers\n",
    "a = 5\n",
    "b = 3\n",
    "product = a * b\n",
    "sum_result = a + b\n",
    "print(product, sum_result)\n"
   ]
  },
  {
   "cell_type": "code",
   "execution_count": 6,
   "id": "e1a9bf58-a2e7-4d4c-8fac-9c9a14cf12db",
   "metadata": {},
   "outputs": [
    {
     "name": "stdout",
     "output_type": "stream",
     "text": [
      "2.0\n"
     ]
    }
   ],
   "source": [
    "# Code to convert minutes to hours\n",
    "# This will convert 200 minutes to hours by diving by 60\n",
    "minutes = 120\n",
    "hours = minutes / 60\n",
    "print(hours)\n"
   ]
  },
  {
   "cell_type": "markdown",
   "id": "edaf2016-7a71-486f-af75-df96bc60dc73",
   "metadata": {},
   "source": [
    "**Objectives**\r\n",
    "- Explore data science languages, libraries, and tools\r\n",
    "- Perform arithmetic operations in code cells\r\n",
    "- Convert units of measurem\n",
    "- List popular languages for Data Scienceent"
   ]
  },
  {
   "cell_type": "markdown",
   "id": "8d9f0d94-3c61-4f14-be2b-c63e82ef158e",
   "metadata": {},
   "source": [
    "## Author\r\n",
    "-Priyanshu Priyadarshie\r\n"
   ]
  },
  {
   "cell_type": "code",
   "execution_count": null,
   "id": "a824ef69-43f4-4dab-b397-4810f1347ebb",
   "metadata": {},
   "outputs": [],
   "source": []
  }
 ],
 "metadata": {
  "kernelspec": {
   "display_name": "Python 3 (ipykernel)",
   "language": "python",
   "name": "python3"
  },
  "language_info": {
   "codemirror_mode": {
    "name": "ipython",
    "version": 3
   },
   "file_extension": ".py",
   "mimetype": "text/x-python",
   "name": "python",
   "nbconvert_exporter": "python",
   "pygments_lexer": "ipython3",
   "version": "3.11.7"
  }
 },
 "nbformat": 4,
 "nbformat_minor": 5
}
