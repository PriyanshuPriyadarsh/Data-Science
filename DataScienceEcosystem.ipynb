{
 "cells": [
  {
   "cell_type": "markdown",
   "id": "d840e5d6-b5ea-4401-987a-2c178dca97e6",
   "metadata": {},
   "source": [
    "# Notebook Title\n",
    "Data Science Tools and Ecosystem"
   ]
  },
  {
   "cell_type": "markdown",
   "id": "e231b8b0-bec4-4f28-8416-1ab7e9f06add",
   "metadata": {},
   "source": [
    "## Introduction\n",
    "In this notebook, Data Science Tools and Ecosystem are summarized."
   ]
  },
  {
   "cell_type": "markdown",
   "id": "96ce90e1-7b1c-48ca-8090-adfe7ac654b7",
   "metadata": {},
   "source": [
    "### Data Science Languages\n",
    "\n",
    "- Python\n",
    "- R\n",
    "- Julia"
   ]
  },
  {
   "cell_type": "markdown",
   "id": "5591ae8f-62b6-4d75-bd61-e4b4224c18ab",
   "metadata": {
    "jp-MarkdownHeadingCollapsed": true
   },
   "source": [
    "### Data Science Libraries\n",
    "\n",
    "- NumPy\n",
    "- Pandas\n",
    "- Matplotlib"
   ]
  },
  {
   "cell_type": "markdown",
   "id": "72784a78-2b83-4a14-82a6-feb8114c892d",
   "metadata": {},
   "source": [
    "### Data Science Tools\n",
    "\n",
    "| Tool         | Description                |\n",
    "|--------------|----------------------------|\n",
    "| Jupyter      | Interactive notebooks      |\n",
    "| TensorFlow   | Deep learning framework    |\n",
    "| scikit-learn | Machine learning library   |"
   ]
  },
  {
   "cell_type": "markdown",
   "id": "20f8b024-4e25-43ff-a15e-28998de86c6c",
   "metadata": {},
   "source": [
    "## Arithmetic Expression Examples\n",
    "# Exercise 8\n",
    "# Multiply and add numbers\n",
    "result = (5 * 3) + (10 * 2)\n",
    "print(result)\n"
   ]
  },
  {
   "cell_type": "markdown",
   "id": "c6ac3049-608f-4498-8a4d-e22d979fdc8a",
   "metadata": {},
   "source": [
    "# Exercise 9\n",
    "# Convert minutes to hours\n",
    "minutes = 120\n",
    "hours = minutes / 60\n",
    "print(hours)\n"
   ]
  },
  {
   "cell_type": "markdown",
   "id": "cc90f7d9-84b8-4e91-a72f-6b119c142dbf",
   "metadata": {},
   "source": [
    "### Objectives\n",
    "\n",
    "- Practice markdown formatting\n",
    "- Perform basic arithmetic operations in Python\n",
    "- Convert units of measurement\n"
   ]
  },
  {
   "cell_type": "markdown",
   "id": "acda1989-785e-4047-841d-e9b8939db915",
   "metadata": {},
   "source": [
    "#### Author: [Priyanshu Priyadarshi]\n"
   ]
  },
  {
   "cell_type": "markdown",
   "id": "f4fc877e-91cd-4d5a-a5b0-bded2067d11f",
   "metadata": {},
   "source": [
    "### GitHub Repository\n",
    "[Link to GitHub](https://github.com/PriyanshuPriyadarsh/Data-science)\n"
   ]
  }
 ],
 "metadata": {
  "kernelspec": {
   "display_name": "Python 3 (ipykernel)",
   "language": "python",
   "name": "python3"
  },
  "language_info": {
   "codemirror_mode": {
    "name": "ipython",
    "version": 3
   },
   "file_extension": ".py",
   "mimetype": "text/x-python",
   "name": "python",
   "nbconvert_exporter": "python",
   "pygments_lexer": "ipython3",
   "version": "3.11.7"
  }
 },
 "nbformat": 4,
 "nbformat_minor": 5
}
